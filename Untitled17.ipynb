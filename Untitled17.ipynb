{
  "nbformat": 4,
  "nbformat_minor": 0,
  "metadata": {
    "colab": {
      "name": "Untitled17.ipynb",
      "provenance": []
    },
    "kernelspec": {
      "name": "python3",
      "display_name": "Python 3"
    },
    "language_info": {
      "name": "python"
    }
  },
  "cells": [
    {
      "cell_type": "markdown",
      "metadata": {
        "id": "BkeG1v0lPLkh"
      },
      "source": [
        "# Brain Tumor Classification\n",
        "#### Dataset Source : https://www.kaggle.com/navoneel/brain-mri-images-for-brain-tumor-detection"
      ]
    },
    {
      "cell_type": "code",
      "metadata": {
        "id": "V7FcvydKPTSO",
        "colab": {
          "base_uri": "https://localhost:8080/"
        },
        "outputId": "1660b8f1-2bc6-4646-bd32-0f2a1c0a3e14"
      },
      "source": [
        "!pip install gdown\n",
        "!gdown --id 1080ExOfZ2byjIGpg7NWo5H5eqog0-k2V"
      ],
      "execution_count": 1,
      "outputs": [
        {
          "output_type": "stream",
          "name": "stdout",
          "text": [
            "Requirement already satisfied: gdown in /usr/local/lib/python3.7/dist-packages (3.6.4)\n",
            "Requirement already satisfied: six in /usr/local/lib/python3.7/dist-packages (from gdown) (1.15.0)\n",
            "Requirement already satisfied: requests in /usr/local/lib/python3.7/dist-packages (from gdown) (2.23.0)\n",
            "Requirement already satisfied: tqdm in /usr/local/lib/python3.7/dist-packages (from gdown) (4.62.3)\n",
            "Requirement already satisfied: idna<3,>=2.5 in /usr/local/lib/python3.7/dist-packages (from requests->gdown) (2.10)\n",
            "Requirement already satisfied: urllib3!=1.25.0,!=1.25.1,<1.26,>=1.21.1 in /usr/local/lib/python3.7/dist-packages (from requests->gdown) (1.24.3)\n",
            "Requirement already satisfied: certifi>=2017.4.17 in /usr/local/lib/python3.7/dist-packages (from requests->gdown) (2021.10.8)\n",
            "Requirement already satisfied: chardet<4,>=3.0.2 in /usr/local/lib/python3.7/dist-packages (from requests->gdown) (3.0.4)\n",
            "Downloading...\n",
            "From: https://drive.google.com/uc?id=1080ExOfZ2byjIGpg7NWo5H5eqog0-k2V\n",
            "To: /content/brain-tumor-dataset.zip\n",
            "100% 15.8M/15.8M [00:00<00:00, 139MB/s]\n"
          ]
        }
      ]
    },
    {
      "cell_type": "markdown",
      "metadata": {
        "id": "5JElWcyFQUBO"
      },
      "source": [
        "## Importing Library"
      ]
    },
    {
      "cell_type": "code",
      "metadata": {
        "id": "zEhIqsWsQXAt"
      },
      "source": [
        "import tensorflow as tf\n",
        "import os\n",
        "import zipfile\n",
        "import shutil\n",
        "\n",
        "from keras.preprocessing import image\n",
        "from tensorflow.keras.preprocessing.image import ImageDataGenerator"
      ],
      "execution_count": 10,
      "outputs": []
    },
    {
      "cell_type": "markdown",
      "metadata": {
        "id": "cowbsolyQJok"
      },
      "source": [
        "## Unzipping File"
      ]
    },
    {
      "cell_type": "code",
      "metadata": {
        "id": "olxT-N8eP6tJ"
      },
      "source": [
        "# Targetting zip file\n",
        "zip_file = 'brain-tumor-dataset.zip'\n",
        "extracting = zipfile.ZipFile(zip_file, 'r')\n",
        "\n",
        "# Creating uncleaned dataset directory\n",
        "os.mkdir('uncleaned_dataset')\n",
        "uncleaned_dataset_dir = 'uncleaned_dataset'\n",
        "\n",
        "# Extracting\n",
        "extracting.extractall(uncleaned_dataset_dir)\n",
        "extracting.close()\n",
        "\n",
        "# Remove zip file\n",
        "os.remove(zip_file)"
      ],
      "execution_count": 3,
      "outputs": []
    },
    {
      "cell_type": "markdown",
      "metadata": {
        "id": "9rJ-Kz5CVjm2"
      },
      "source": [
        "## Remove Redundant Directory"
      ]
    },
    {
      "cell_type": "code",
      "metadata": {
        "id": "EPVkyDwKUKpQ"
      },
      "source": [
        "shutil.rmtree(os.path.join(uncleaned_dataset_dir, 'brain_tumor_dataset'))"
      ],
      "execution_count": 4,
      "outputs": []
    },
    {
      "cell_type": "markdown",
      "metadata": {
        "id": "zMcy3uwuWDqB"
      },
      "source": [
        "## Splitting Dataset"
      ]
    },
    {
      "cell_type": "code",
      "metadata": {
        "colab": {
          "base_uri": "https://localhost:8080/"
        },
        "id": "ckzsLL6JWBl4",
        "outputId": "4ffdc14a-592e-4d97-8eaa-582b1ba063dc"
      },
      "source": [
        "# Count File\n",
        "print(\"Number of image in 'No' Class : {} \".format(len(os.listdir(os.path.join(uncleaned_dataset_dir, 'no')))))\n",
        "print(\"Number of image in 'Yes' Class : {} \".format(len(os.listdir(os.path.join(uncleaned_dataset_dir, 'yes')))))"
      ],
      "execution_count": 5,
      "outputs": [
        {
          "output_type": "stream",
          "name": "stdout",
          "text": [
            "Number of image in 'No' Class : 98 \n",
            "Number of image in 'Yes' Class : 155 \n"
          ]
        }
      ]
    },
    {
      "cell_type": "code",
      "metadata": {
        "id": "sGfchJt3WY0l"
      },
      "source": [
        "# Decided Training Length\n",
        "training_length = 80\n",
        "\n",
        "# Created Cleaned Dataset Directory\n",
        "os.mkdir('dataset')\n",
        "dataset_dir = 'dataset'\n",
        "\n",
        "os.mkdir('dataset/training')\n",
        "os.mkdir('dataset/validation')\n",
        "\n",
        "training_dir = 'dataset/training'\n",
        "validation_dir = 'dataset/validation'\n",
        "\n",
        "os.mkdir(os.path.join(training_dir, 'yes'))\n",
        "training_dir_yes = os.path.join(training_dir, 'yes')\n",
        "\n",
        "os.mkdir(os.path.join(training_dir, 'no'))\n",
        "training_dir_no = os.path.join(training_dir, 'no')\n",
        "\n",
        "os.mkdir(os.path.join(validation_dir, 'yes'))\n",
        "validation_dir_yes = os.path.join(validation_dir, 'yes')\n",
        "\n",
        "os.mkdir(os.path.join(validation_dir, 'no'))\n",
        "validation_dir_no = os.path.join(validation_dir, 'no')"
      ],
      "execution_count": 6,
      "outputs": []
    },
    {
      "cell_type": "code",
      "metadata": {
        "id": "NWqpzxhsW5Bk"
      },
      "source": [
        "# Move 80 image file from uncleaned dataset to dataset/training\n",
        "\n",
        "# class NO\n",
        "count = 0\n",
        "no_uncleaned_path = os.path.join(uncleaned_dataset_dir, 'no')\n",
        "\n",
        "for img_file in os.listdir(no_uncleaned_path):\n",
        "  count += 1\n",
        "  img_path_before = os.path.join(no_uncleaned_path, img_file)\n",
        "  img_path_after = os.path.join(training_dir_no, img_file)\n",
        "  \n",
        "  if count <= training_length:\n",
        "    shutil.move(img_path_before, img_path_after)\n",
        "\n",
        "# class YES\n",
        "count = 0\n",
        "no_uncleaned_path = os.path.join(uncleaned_dataset_dir, 'yes')\n",
        "\n",
        "for img_file in os.listdir(no_uncleaned_path):\n",
        "  count += 1\n",
        "  img_path_before = os.path.join(no_uncleaned_path, img_file)\n",
        "  img_path_after = os.path.join(training_dir_yes, img_file)\n",
        "  \n",
        "  if count <= training_length:\n",
        "    shutil.move(img_path_before, img_path_after)"
      ],
      "execution_count": 7,
      "outputs": []
    },
    {
      "cell_type": "code",
      "metadata": {
        "id": "4nmLEMFnXyAS"
      },
      "source": [
        "# Move 80 image file from uncleaned dataset to dataset/validation\n",
        "\n",
        "# class NO\n",
        "no_uncleaned_path = os.path.join(uncleaned_dataset_dir, 'no')\n",
        "\n",
        "for img_file in os.listdir(no_uncleaned_path):\n",
        "  img_path_before = os.path.join(no_uncleaned_path, img_file)\n",
        "  img_path_after = os.path.join(validation_dir_no, img_file)\n",
        "\n",
        "  shutil.move(img_path_before, img_path_after)\n",
        "\n",
        "# class YES\n",
        "no_uncleaned_path = os.path.join(uncleaned_dataset_dir, 'yes')\n",
        "\n",
        "for img_file in os.listdir(no_uncleaned_path):\n",
        "  img_path_before = os.path.join(no_uncleaned_path, img_file)\n",
        "  img_path_after = os.path.join(validation_dir_yes, img_file)\n",
        "\n",
        "  shutil.move(img_path_before, img_path_after)"
      ],
      "execution_count": 8,
      "outputs": []
    },
    {
      "cell_type": "code",
      "metadata": {
        "id": "y4Sv7tCHZQvU"
      },
      "source": [
        "# Remove uncleaned dataset dir\n",
        "shutil.rmtree(uncleaned_dataset_dir)"
      ],
      "execution_count": 9,
      "outputs": []
    },
    {
      "cell_type": "markdown",
      "metadata": {
        "id": "q65V9niFcLqF"
      },
      "source": [
        "## Preprocessing Image"
      ]
    },
    {
      "cell_type": "code",
      "metadata": {
        "id": "74Ala3kGcOXE"
      },
      "source": [
        "training_rule = ImageDataGenerator(\n",
        "    rescale = 1./255,\n",
        "    horizontal_flip = True,\n",
        "    shear_range = 0.2,\n",
        "    rotation_range = 0.2,\n",
        "    zoom_range = 0.2,\n",
        "    width_shift_range = 0.2,\n",
        "    height_shift_range = 0.2,\n",
        "    fill_mode = 'nearest'\n",
        ")\n",
        "\n",
        "validation_rule = ImageDataGenerator(\n",
        "    rescale = 1./255\n",
        ")"
      ],
      "execution_count": 11,
      "outputs": []
    },
    {
      "cell_type": "code",
      "metadata": {
        "colab": {
          "base_uri": "https://localhost:8080/"
        },
        "id": "_oi_n9Jacxta",
        "outputId": "2dcb5962-543f-4031-a138-44a9bf0cd546"
      },
      "source": [
        "training_generator = training_rule.flow_from_directory(\n",
        "    training_dir,\n",
        "    target_size = (150, 150),\n",
        "    class_mode = 'categorical',\n",
        "    batch_size = 20,\n",
        "    shuffle = True\n",
        ")\n",
        "\n",
        "validation_generator = validation_rule.flow_from_directory(\n",
        "    validation_dir,\n",
        "    target_size = (150, 150),\n",
        "    batch_size = 20,\n",
        "    class_mode = 'categorical'\n",
        ")"
      ],
      "execution_count": 19,
      "outputs": [
        {
          "output_type": "stream",
          "name": "stdout",
          "text": [
            "Found 160 images belonging to 2 classes.\n",
            "Found 93 images belonging to 2 classes.\n"
          ]
        }
      ]
    },
    {
      "cell_type": "markdown",
      "metadata": {
        "id": "pJJ5VyO3dPvx"
      },
      "source": [
        "## Build Model"
      ]
    },
    {
      "cell_type": "code",
      "metadata": {
        "colab": {
          "base_uri": "https://localhost:8080/"
        },
        "id": "uXZLVJvQdMUa",
        "outputId": "76149e8d-2582-4134-88a1-028cdb04c3f5"
      },
      "source": [
        "model = tf.keras.models.Sequential([\n",
        "      tf.keras.layers.Conv2D(16, (3, 3), activation = 'relu', input_shape = (150, 150, 3)),\n",
        "      tf.keras.layers.MaxPooling2D(2, 2),\n",
        "\n",
        "      tf.keras.layers.Conv2D(32, (3, 3), activation = 'relu'),\n",
        "      tf.keras.layers.MaxPooling2D(2, 2),\n",
        "\n",
        "      # tf.keras.layers.Conv2D(64, (3, 3), activation = 'relu')\n",
        "      # tf.keras.layers.MaxPooling2D(2, 2),\n",
        "\n",
        "      tf.keras.layers.Flatten(),\n",
        "\n",
        "      tf.keras.layers.Dense(128, activation = 'relu'),\n",
        "      tf.keras.layers.Dense(64, activation = 'relu'),\n",
        "      tf.keras.layers.Dense(2, activation = 'softmax')\n",
        "])\n",
        "\n",
        "model.summary()\n",
        "\n",
        "model.compile(\n",
        "    loss = 'categorical_crossentropy',\n",
        "    optimizer = tf.keras.optimizers.Adam(learning_rate = 0.001),\n",
        "    metrics = ['accuracy', tf.keras.metrics.Recall(), tf.keras.metrics.Precision()]\n",
        ")\n",
        "\n",
        "history = model.fit(\n",
        "    training_generator,\n",
        "    epochs = 50,\n",
        "    validation_data = validation_generator\n",
        ")"
      ],
      "execution_count": 21,
      "outputs": [
        {
          "output_type": "stream",
          "name": "stdout",
          "text": [
            "Model: \"sequential_4\"\n",
            "_________________________________________________________________\n",
            " Layer (type)                Output Shape              Param #   \n",
            "=================================================================\n",
            " conv2d_8 (Conv2D)           (None, 148, 148, 16)      448       \n",
            "                                                                 \n",
            " max_pooling2d_8 (MaxPooling  (None, 74, 74, 16)       0         \n",
            " 2D)                                                             \n",
            "                                                                 \n",
            " conv2d_9 (Conv2D)           (None, 72, 72, 32)        4640      \n",
            "                                                                 \n",
            " max_pooling2d_9 (MaxPooling  (None, 36, 36, 32)       0         \n",
            " 2D)                                                             \n",
            "                                                                 \n",
            " flatten_4 (Flatten)         (None, 41472)             0         \n",
            "                                                                 \n",
            " dense_12 (Dense)            (None, 128)               5308544   \n",
            "                                                                 \n",
            " dense_13 (Dense)            (None, 64)                8256      \n",
            "                                                                 \n",
            " dense_14 (Dense)            (None, 2)                 130       \n",
            "                                                                 \n",
            "=================================================================\n",
            "Total params: 5,322,018\n",
            "Trainable params: 5,322,018\n",
            "Non-trainable params: 0\n",
            "_________________________________________________________________\n",
            "Epoch 1/50\n",
            "8/8 [==============================] - 6s 620ms/step - loss: 1.3098 - accuracy: 0.4625 - recall_4: 0.4625 - precision_4: 0.4625 - val_loss: 0.4548 - val_accuracy: 0.8065 - val_recall_4: 0.8065 - val_precision_4: 0.8065\n",
            "Epoch 2/50\n",
            "8/8 [==============================] - 5s 554ms/step - loss: 0.7340 - accuracy: 0.4688 - recall_4: 0.4688 - precision_4: 0.4688 - val_loss: 0.7375 - val_accuracy: 0.1935 - val_recall_4: 0.1935 - val_precision_4: 0.1935\n",
            "Epoch 3/50\n",
            "8/8 [==============================] - 5s 554ms/step - loss: 0.6841 - accuracy: 0.5312 - recall_4: 0.5312 - precision_4: 0.5312 - val_loss: 0.6862 - val_accuracy: 0.5914 - val_recall_4: 0.5914 - val_precision_4: 0.5914\n",
            "Epoch 4/50\n",
            "8/8 [==============================] - 5s 555ms/step - loss: 0.6807 - accuracy: 0.5562 - recall_4: 0.5562 - precision_4: 0.5562 - val_loss: 0.6435 - val_accuracy: 0.7527 - val_recall_4: 0.7527 - val_precision_4: 0.7527\n",
            "Epoch 5/50\n",
            "8/8 [==============================] - 5s 551ms/step - loss: 0.6540 - accuracy: 0.6062 - recall_4: 0.6062 - precision_4: 0.6062 - val_loss: 0.5263 - val_accuracy: 0.8495 - val_recall_4: 0.8495 - val_precision_4: 0.8495\n",
            "Epoch 6/50\n",
            "8/8 [==============================] - 4s 549ms/step - loss: 0.6468 - accuracy: 0.6250 - recall_4: 0.6250 - precision_4: 0.6250 - val_loss: 0.4959 - val_accuracy: 0.8065 - val_recall_4: 0.8065 - val_precision_4: 0.8065\n",
            "Epoch 7/50\n",
            "8/8 [==============================] - 5s 559ms/step - loss: 0.6315 - accuracy: 0.6500 - recall_4: 0.6500 - precision_4: 0.6500 - val_loss: 0.4339 - val_accuracy: 0.8387 - val_recall_4: 0.8387 - val_precision_4: 0.8387\n",
            "Epoch 8/50\n",
            "8/8 [==============================] - 5s 556ms/step - loss: 0.6116 - accuracy: 0.6500 - recall_4: 0.6500 - precision_4: 0.6500 - val_loss: 0.3948 - val_accuracy: 0.8387 - val_recall_4: 0.8387 - val_precision_4: 0.8387\n",
            "Epoch 9/50\n",
            "8/8 [==============================] - 5s 559ms/step - loss: 0.5626 - accuracy: 0.7437 - recall_4: 0.7437 - precision_4: 0.7437 - val_loss: 0.4306 - val_accuracy: 0.8172 - val_recall_4: 0.8172 - val_precision_4: 0.8172\n",
            "Epoch 10/50\n",
            "8/8 [==============================] - 5s 556ms/step - loss: 0.6294 - accuracy: 0.6438 - recall_4: 0.6438 - precision_4: 0.6438 - val_loss: 0.3927 - val_accuracy: 0.8710 - val_recall_4: 0.8710 - val_precision_4: 0.8710\n",
            "Epoch 11/50\n",
            "8/8 [==============================] - 5s 555ms/step - loss: 0.5947 - accuracy: 0.7063 - recall_4: 0.7063 - precision_4: 0.7063 - val_loss: 0.4911 - val_accuracy: 0.7849 - val_recall_4: 0.7849 - val_precision_4: 0.7849\n",
            "Epoch 12/50\n",
            "8/8 [==============================] - 5s 558ms/step - loss: 0.5856 - accuracy: 0.7437 - recall_4: 0.7437 - precision_4: 0.7437 - val_loss: 0.3802 - val_accuracy: 0.8602 - val_recall_4: 0.8602 - val_precision_4: 0.8602\n",
            "Epoch 13/50\n",
            "8/8 [==============================] - 5s 561ms/step - loss: 0.5899 - accuracy: 0.6938 - recall_4: 0.6938 - precision_4: 0.6938 - val_loss: 0.4765 - val_accuracy: 0.7849 - val_recall_4: 0.7849 - val_precision_4: 0.7849\n",
            "Epoch 14/50\n",
            "8/8 [==============================] - 5s 553ms/step - loss: 0.6262 - accuracy: 0.6438 - recall_4: 0.6438 - precision_4: 0.6438 - val_loss: 0.4234 - val_accuracy: 0.8065 - val_recall_4: 0.8065 - val_precision_4: 0.8065\n",
            "Epoch 15/50\n",
            "8/8 [==============================] - 5s 556ms/step - loss: 0.6269 - accuracy: 0.6313 - recall_4: 0.6313 - precision_4: 0.6313 - val_loss: 0.4349 - val_accuracy: 0.7849 - val_recall_4: 0.7849 - val_precision_4: 0.7849\n",
            "Epoch 16/50\n",
            "8/8 [==============================] - 5s 557ms/step - loss: 0.5914 - accuracy: 0.6812 - recall_4: 0.6812 - precision_4: 0.6812 - val_loss: 0.7044 - val_accuracy: 0.5914 - val_recall_4: 0.5914 - val_precision_4: 0.5914\n",
            "Epoch 17/50\n",
            "8/8 [==============================] - 4s 552ms/step - loss: 0.5842 - accuracy: 0.7188 - recall_4: 0.7188 - precision_4: 0.7188 - val_loss: 0.4386 - val_accuracy: 0.8387 - val_recall_4: 0.8387 - val_precision_4: 0.8387\n",
            "Epoch 18/50\n",
            "8/8 [==============================] - 5s 553ms/step - loss: 0.5772 - accuracy: 0.7250 - recall_4: 0.7250 - precision_4: 0.7250 - val_loss: 0.3983 - val_accuracy: 0.8280 - val_recall_4: 0.8280 - val_precision_4: 0.8280\n",
            "Epoch 19/50\n",
            "8/8 [==============================] - 4s 557ms/step - loss: 0.5189 - accuracy: 0.7312 - recall_4: 0.7312 - precision_4: 0.7312 - val_loss: 0.5033 - val_accuracy: 0.7742 - val_recall_4: 0.7742 - val_precision_4: 0.7742\n",
            "Epoch 20/50\n",
            "8/8 [==============================] - 5s 558ms/step - loss: 0.5758 - accuracy: 0.7125 - recall_4: 0.7125 - precision_4: 0.7125 - val_loss: 0.3755 - val_accuracy: 0.8280 - val_recall_4: 0.8280 - val_precision_4: 0.8280\n",
            "Epoch 21/50\n",
            "8/8 [==============================] - 5s 561ms/step - loss: 0.5946 - accuracy: 0.6625 - recall_4: 0.6625 - precision_4: 0.6625 - val_loss: 0.6736 - val_accuracy: 0.5699 - val_recall_4: 0.5699 - val_precision_4: 0.5699\n",
            "Epoch 22/50\n",
            "8/8 [==============================] - 5s 564ms/step - loss: 0.5781 - accuracy: 0.6500 - recall_4: 0.6500 - precision_4: 0.6500 - val_loss: 0.4530 - val_accuracy: 0.8280 - val_recall_4: 0.8280 - val_precision_4: 0.8280\n",
            "Epoch 23/50\n",
            "8/8 [==============================] - 5s 556ms/step - loss: 0.6210 - accuracy: 0.6375 - recall_4: 0.6375 - precision_4: 0.6375 - val_loss: 0.4056 - val_accuracy: 0.8495 - val_recall_4: 0.8495 - val_precision_4: 0.8495\n",
            "Epoch 24/50\n",
            "8/8 [==============================] - 5s 557ms/step - loss: 0.5617 - accuracy: 0.7563 - recall_4: 0.7563 - precision_4: 0.7563 - val_loss: 0.5720 - val_accuracy: 0.7527 - val_recall_4: 0.7527 - val_precision_4: 0.7527\n",
            "Epoch 25/50\n",
            "8/8 [==============================] - 5s 553ms/step - loss: 0.5738 - accuracy: 0.6812 - recall_4: 0.6812 - precision_4: 0.6812 - val_loss: 0.3753 - val_accuracy: 0.8280 - val_recall_4: 0.8280 - val_precision_4: 0.8280\n",
            "Epoch 26/50\n",
            "8/8 [==============================] - 5s 553ms/step - loss: 0.5796 - accuracy: 0.6687 - recall_4: 0.6687 - precision_4: 0.6687 - val_loss: 0.4336 - val_accuracy: 0.8172 - val_recall_4: 0.8172 - val_precision_4: 0.8172\n",
            "Epoch 27/50\n",
            "8/8 [==============================] - 5s 553ms/step - loss: 0.5276 - accuracy: 0.7500 - recall_4: 0.7500 - precision_4: 0.7500 - val_loss: 0.4770 - val_accuracy: 0.7957 - val_recall_4: 0.7957 - val_precision_4: 0.7957\n",
            "Epoch 28/50\n",
            "8/8 [==============================] - 4s 554ms/step - loss: 0.5704 - accuracy: 0.7063 - recall_4: 0.7063 - precision_4: 0.7063 - val_loss: 0.3955 - val_accuracy: 0.8172 - val_recall_4: 0.8172 - val_precision_4: 0.8172\n",
            "Epoch 29/50\n",
            "8/8 [==============================] - 5s 554ms/step - loss: 0.5821 - accuracy: 0.6938 - recall_4: 0.6938 - precision_4: 0.6938 - val_loss: 0.4563 - val_accuracy: 0.8280 - val_recall_4: 0.8280 - val_precision_4: 0.8280\n",
            "Epoch 30/50\n",
            "8/8 [==============================] - 4s 548ms/step - loss: 0.5252 - accuracy: 0.7188 - recall_4: 0.7188 - precision_4: 0.7188 - val_loss: 0.4100 - val_accuracy: 0.8602 - val_recall_4: 0.8602 - val_precision_4: 0.8602\n",
            "Epoch 31/50\n",
            "8/8 [==============================] - 5s 562ms/step - loss: 0.6004 - accuracy: 0.7000 - recall_4: 0.7000 - precision_4: 0.7000 - val_loss: 0.3920 - val_accuracy: 0.8495 - val_recall_4: 0.8495 - val_precision_4: 0.8495\n",
            "Epoch 32/50\n",
            "8/8 [==============================] - 5s 554ms/step - loss: 0.5315 - accuracy: 0.7250 - recall_4: 0.7250 - precision_4: 0.7250 - val_loss: 0.8910 - val_accuracy: 0.4839 - val_recall_4: 0.4839 - val_precision_4: 0.4839\n",
            "Epoch 33/50\n",
            "8/8 [==============================] - 5s 560ms/step - loss: 0.5577 - accuracy: 0.7000 - recall_4: 0.7000 - precision_4: 0.7000 - val_loss: 0.4127 - val_accuracy: 0.8387 - val_recall_4: 0.8387 - val_precision_4: 0.8387\n",
            "Epoch 34/50\n",
            "8/8 [==============================] - 5s 558ms/step - loss: 0.5449 - accuracy: 0.7000 - recall_4: 0.7000 - precision_4: 0.7000 - val_loss: 0.4935 - val_accuracy: 0.8387 - val_recall_4: 0.8387 - val_precision_4: 0.8387\n",
            "Epoch 35/50\n",
            "8/8 [==============================] - 5s 561ms/step - loss: 0.4512 - accuracy: 0.8188 - recall_4: 0.8188 - precision_4: 0.8188 - val_loss: 0.6017 - val_accuracy: 0.7527 - val_recall_4: 0.7527 - val_precision_4: 0.7527\n",
            "Epoch 36/50\n",
            "8/8 [==============================] - 5s 559ms/step - loss: 0.5175 - accuracy: 0.7437 - recall_4: 0.7437 - precision_4: 0.7437 - val_loss: 0.4382 - val_accuracy: 0.8280 - val_recall_4: 0.8280 - val_precision_4: 0.8280\n",
            "Epoch 37/50\n",
            "8/8 [==============================] - 5s 551ms/step - loss: 0.5139 - accuracy: 0.7375 - recall_4: 0.7375 - precision_4: 0.7375 - val_loss: 0.4735 - val_accuracy: 0.8387 - val_recall_4: 0.8387 - val_precision_4: 0.8387\n",
            "Epoch 38/50\n",
            "8/8 [==============================] - 5s 571ms/step - loss: 0.5248 - accuracy: 0.7375 - recall_4: 0.7375 - precision_4: 0.7375 - val_loss: 0.7480 - val_accuracy: 0.6129 - val_recall_4: 0.6129 - val_precision_4: 0.6129\n",
            "Epoch 39/50\n",
            "8/8 [==============================] - 5s 553ms/step - loss: 0.5350 - accuracy: 0.7250 - recall_4: 0.7250 - precision_4: 0.7250 - val_loss: 0.5088 - val_accuracy: 0.7742 - val_recall_4: 0.7742 - val_precision_4: 0.7742\n",
            "Epoch 40/50\n",
            "8/8 [==============================] - 5s 556ms/step - loss: 0.4879 - accuracy: 0.7250 - recall_4: 0.7250 - precision_4: 0.7250 - val_loss: 0.5247 - val_accuracy: 0.7527 - val_recall_4: 0.7527 - val_precision_4: 0.7527\n",
            "Epoch 41/50\n",
            "8/8 [==============================] - 5s 559ms/step - loss: 0.5337 - accuracy: 0.7125 - recall_4: 0.7125 - precision_4: 0.7125 - val_loss: 0.4517 - val_accuracy: 0.8387 - val_recall_4: 0.8387 - val_precision_4: 0.8387\n",
            "Epoch 42/50\n",
            "8/8 [==============================] - 5s 563ms/step - loss: 0.5268 - accuracy: 0.7188 - recall_4: 0.7188 - precision_4: 0.7188 - val_loss: 0.5338 - val_accuracy: 0.7312 - val_recall_4: 0.7312 - val_precision_4: 0.7312\n",
            "Epoch 43/50\n",
            "8/8 [==============================] - 5s 547ms/step - loss: 0.5230 - accuracy: 0.7625 - recall_4: 0.7625 - precision_4: 0.7625 - val_loss: 0.4127 - val_accuracy: 0.8602 - val_recall_4: 0.8602 - val_precision_4: 0.8602\n",
            "Epoch 44/50\n",
            "8/8 [==============================] - 5s 554ms/step - loss: 0.5720 - accuracy: 0.6625 - recall_4: 0.6625 - precision_4: 0.6625 - val_loss: 0.6296 - val_accuracy: 0.6452 - val_recall_4: 0.6452 - val_precision_4: 0.6452\n",
            "Epoch 45/50\n",
            "8/8 [==============================] - 5s 558ms/step - loss: 0.5188 - accuracy: 0.7063 - recall_4: 0.7063 - precision_4: 0.7063 - val_loss: 0.5388 - val_accuracy: 0.7634 - val_recall_4: 0.7634 - val_precision_4: 0.7634\n",
            "Epoch 46/50\n",
            "8/8 [==============================] - 5s 555ms/step - loss: 0.4706 - accuracy: 0.7563 - recall_4: 0.7563 - precision_4: 0.7563 - val_loss: 0.3709 - val_accuracy: 0.8925 - val_recall_4: 0.8925 - val_precision_4: 0.8925\n",
            "Epoch 47/50\n",
            "8/8 [==============================] - 4s 551ms/step - loss: 0.5408 - accuracy: 0.7312 - recall_4: 0.7312 - precision_4: 0.7312 - val_loss: 1.1836 - val_accuracy: 0.4946 - val_recall_4: 0.4946 - val_precision_4: 0.4946\n",
            "Epoch 48/50\n",
            "8/8 [==============================] - 5s 555ms/step - loss: 0.6154 - accuracy: 0.6875 - recall_4: 0.6875 - precision_4: 0.6875 - val_loss: 0.5042 - val_accuracy: 0.7634 - val_recall_4: 0.7634 - val_precision_4: 0.7634\n",
            "Epoch 49/50\n",
            "8/8 [==============================] - 4s 555ms/step - loss: 0.5401 - accuracy: 0.7312 - recall_4: 0.7312 - precision_4: 0.7312 - val_loss: 0.6343 - val_accuracy: 0.6452 - val_recall_4: 0.6452 - val_precision_4: 0.6452\n",
            "Epoch 50/50\n",
            "8/8 [==============================] - 5s 553ms/step - loss: 0.5182 - accuracy: 0.7750 - recall_4: 0.7750 - precision_4: 0.7750 - val_loss: 0.5132 - val_accuracy: 0.7527 - val_recall_4: 0.7527 - val_precision_4: 0.7527\n"
          ]
        }
      ]
    },
    {
      "cell_type": "markdown",
      "metadata": {
        "id": "QPZTexcGe2QF"
      },
      "source": [
        "## Saving Model"
      ]
    },
    {
      "cell_type": "code",
      "metadata": {
        "id": "PkUc5moLd8Cu"
      },
      "source": [
        "# os.mkdir('model')\n",
        "saved_model_path = './model/model.h5'\n",
        "model.save(saved_model_path)"
      ],
      "execution_count": 24,
      "outputs": []
    },
    {
      "cell_type": "code",
      "metadata": {
        "id": "U1gxGfC4fAi6"
      },
      "source": [
        ""
      ],
      "execution_count": null,
      "outputs": []
    }
  ]
}